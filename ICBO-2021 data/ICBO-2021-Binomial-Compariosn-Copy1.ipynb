{
 "cells": [
  {
   "cell_type": "code",
   "execution_count": 70,
   "metadata": {},
   "outputs": [
    {
     "data": {
      "image/png": "[encoded data removed]",
      "text/plain": [
       "<Figure size 432x288 with 1 Axes>"
      ]
     },
     "metadata": {
      "needs_background": "light"
     },
     "output_type": "display_data"
    }
   ],
   "source": [
    "#Early imports\n",
    "from scipy.stats import binom_test\n",
    "import matplotlib.pyplot as plt\n",
    "fig, ax = plt.subplots(1, 1)\n",
    "import numpy as np\n",
    "import pandas as pd"
   ]
  },
  {
   "cell_type": "code",
   "execution_count": 207,
   "metadata": {},
   "outputs": [],
   "source": [
    "def reactome_binomial_results (subgroup_pathway, sub_group_size, master_pathway, p_value_threshold = 0.05, bin_type = 'greater'):\n",
    "    '''\n",
    "    Result to get pathways and see if they are significant results for our sample size.\n",
    "    \n",
    "    subgroup_pathway is a numby array composed of a zip of 3 lists:\n",
    "        One for pathway name\n",
    "        One for genes in subgroup for pathway\n",
    "        One for genes in that specific pathway\n",
    "        \n",
    "    subgroup_size is the number of genes tested as part of that pathway\n",
    "    \n",
    "    master_pathway is big list of all pathways generated from reactome where we got the results.\n",
    "    \n",
    "    relevant gives a list of pathway name and p value of signficance\n",
    "    \n",
    "    '''\n",
    "    \n",
    "    \n",
    "    relevant = []\n",
    "    for idx, term in enumerate(subgroup_pathway):\n",
    "        #print(term[0])\n",
    "        for term2 in master_pathway:\n",
    "            if term[0] == term2[0]:\n",
    "                xed = int(term[1])\n",
    "                ked = sub_group_size\n",
    "                prob = int(term2[1])/int(term2[2])\n",
    "                p_value = binom_test(xed, n = ked, p = prob, alternative = bin_type)\n",
    "                if p_value <= p_value_threshold:\n",
    "                    relevant.append((term[0], p_value))\n",
    "        return relevant"
   ]
  },
  {
   "cell_type": "code",
   "execution_count": 216,
   "metadata": {},
   "outputs": [
    {
     "name": "stdout",
     "output_type": "stream",
     "text": [
      "[['interleukin-10 signaling' '6' '45']\n",
      " ['Cytokine Signaling in Immune system' '7' '804']\n",
      " ['Signaling by Interleukins' '6' '457']\n",
      " ['Chemokine receptors bind chemokines' '3' '57']\n",
      " ['Immune System' '7' '2249']\n",
      " ['GPCR ligand binding' '4' '469']\n",
      " ['Peptide ligand-binding receptors' '3' '198']\n",
      " ['GPCR downstream signalling' '4' '631']\n",
      " ['Signalling by GPCR' '3' '706']\n",
      " ['G alpha (I) signalling events' '3' '317']\n",
      " ['Class A/1' '3' '333']]\n",
      "[['interleukin-10 signaling' '8' '45']\n",
      " ['Signaling by Interleukins' '10' '457']\n",
      " ['Cytokine Signaling in Immune system' '11' '804']\n",
      " ['Immune System' '11' '2249']\n",
      " ['Chemokine receptors bind chemokines' '3' '57']\n",
      " ['Interleukin-18 signaling' '2' '9']\n",
      " ['Interleukin-4 and Interleukin-13 signaling' '3' '111']\n",
      " ['Other interleuking signaling' '2' '24']\n",
      " ['interleukin-1 family signaling' '3' '142']\n",
      " ['Cellular Senescence' '3' '166']]\n",
      "14 14\n",
      "[['interleukin-10 signaling' '9' '58']\n",
      " ['Signaling by Interleukins' '11' '58']\n",
      " ['Cytokine Signaling in Immune system' '12' '58']\n",
      " ['Immune System' '12' '58']\n",
      " ['Chemokine receptors bind chemokines' '4' '58']\n",
      " ['Interleukin-18 signaling' '2' '58']\n",
      " ['Peptide ligand-binding receptors' '4' '58']\n",
      " ['GPCR downstream signalling' '5' '58']\n",
      " ['Interleukin-4 and Interleukin-13 signaling' '3' '58']\n",
      " ['Other interleuking signaling' '2' '58']\n",
      " ['interleukin-1 family signaling' '3' '58']\n",
      " ['Cellular Senescence' '3' '58']\n",
      " ['Class A/1' '4' '58']\n",
      " ['G alpha (I) signalling events' '3' '58']]\n"
     ]
    }
   ],
   "source": [
    "# Values used in paper.\n",
    "# Pathway counts are from reactome data results\n",
    "male_pathways = [\"interleukin-10 signaling\", \"Cytokine Signaling in Immune system\", \"Signaling by Interleukins\", \"Chemokine receptors bind chemokines\", \"Immune System\", \"GPCR ligand binding\", \"Peptide ligand-binding receptors\", \"GPCR downstream signalling\", \"Signalling by GPCR\",  \"G alpha (I) signalling events\", \"Class A/1\"]\n",
    "male_pathways_counts = [6, 7, 6, 3, 7, 4, 3 , 4, 3, 3, 3]\n",
    "male_pathways_possible = [45, 804, 457, 57, 2249, 469, 198, 631, 706, 317, 333]\n",
    "female_pathways = [\"interleukin-10 signaling\", \"Signaling by Interleukins\", \"Cytokine Signaling in Immune system\", \"Immune System\", \"Chemokine receptors bind chemokines\", \"Interleukin-18 signaling\", \"Interleukin-4 and Interleukin-13 signaling\", \"Other interleuking signaling\", \"interleukin-1 family signaling\", \"Cellular Senescence\" ]\n",
    "female_pathways_counts = [8, 10, 11, 11, 3, 2, 3, 2, 3, 3] \n",
    "female_pathways_possible = [45, 457, 804, 2249, 57, 9, 111, 24, 142, 166]\n",
    "female_all = np.array([y for y in zip(female_pathways, female_pathways_counts, female_pathways_possible)])\n",
    "male_all = np.array([x for x in zip(male_pathways, male_pathways_counts, male_pathways_possible)])\n",
    "print(male_all)\n",
    "print(female_all)\n",
    "total = 58\n",
    "total_pathways = [\"interleukin-10 signaling\", \"Signaling by Interleukins\", \"Cytokine Signaling in Immune system\", \"Immune System\", \"Chemokine receptors bind chemokines\", \"Interleukin-18 signaling\", \"Peptide ligand-binding receptors\",  \"GPCR downstream signalling\", \"Interleukin-4 and Interleukin-13 signaling\", \"Other interleuking signaling\", \"interleukin-1 family signaling\", \"Cellular Senescence\", \"Class A/1\", 'G alpha (I) signalling events']\n",
    "total_counts = [9, 11, 12, 12, 4, 2, 4, 5, 3, 2, 3, 3, 4, 3]\n",
    "print(len(total_pathways), len(total_counts))\n",
    "total_all = np.array([z for z in zip(total_pathways, total_counts, [total for n in range(len(total_pathways))])])\n",
    "print(total_all)\n"
   ]
  },
  {
   "cell_type": "code",
   "execution_count": 218,
   "metadata": {},
   "outputs": [
    {
     "name": "stdout",
     "output_type": "stream",
     "text": [
      "[('interleukin-10 signaling', 8.472308576714214e-05)]\n",
      "[('interleukin-10 signaling', 3.556692837757805e-05)]\n"
     ]
    }
   ],
   "source": [
    "# Males have 8 unique genes\n",
    "# Cellular Senesence there are 3 genes part of this pathway\n",
    "# Counted 14 genes for our experiment and there are 166 genes in the pathway in total\n",
    "# Binom(3, 9, 14/166)\n",
    "#print(male_all, total_all)\n",
    "\n",
    "guys = reactome_binomial_results(male_all, 7, total_all)\n",
    "gals = reactome_binomial_results(female_all, 11, total_all)\n",
    "print(guys)\n",
    "print(gals)"
   ]
  },
  {
   "cell_type": "markdown",
   "metadata": {},
   "source": [
    "# Effort with All Gene Lists\n",
    "## Trying with more panda dataframes to expand sample size. This proved inconclusive."
   ]
  },
  {
   "cell_type": "code",
   "execution_count": 172,
   "metadata": {},
   "outputs": [],
   "source": [
    "wut = pd.read_csv('result-Supplemental-Gene-NIHMS1622076.csv')"
   ]
  },
  {
   "cell_type": "code",
   "execution_count": 156,
   "metadata": {},
   "outputs": [],
   "source": [
    "pathname = 'NIHMS1622076-supplement-1622076_Supp_Tab1.xlsx'"
   ]
  },
  {
   "cell_type": "code",
   "execution_count": 203,
   "metadata": {},
   "outputs": [
    {
     "name": "stdout",
     "output_type": "stream",
     "text": [
      "('yo', 'interleukin-10 signaling')\n",
      "('yo', 'interleukin-10 signaling')\n",
      "[]\n",
      "[]\n",
      "('yo', 'interleukin-10 signaling')\n",
      "('yo', 'interleukin-10 signaling')\n",
      "[]\n",
      "[]\n",
      "('yo', 'interleukin-10 signaling')\n",
      "('yo', 'interleukin-10 signaling')\n",
      "[]\n",
      "[]\n"
     ]
    }
   ],
   "source": [
    "guys_more = reactome_binomial_results(male_all, 7, total_all, 0.05,'greater')\n",
    "gals_more = reactome_binomial_results(female_all, 11, total_all, 0.05, 'greater')\n",
    "print(guys_more) \n",
    "print(gals_more) \n",
    "guys_less = reactome_binomial_results(male_all, 7, total_all, 0.05,'less')\n",
    "gals_less = reactome_binomial_results(female_all, 11, total_all, 0.05, 'less')\n",
    "print(guys_less) \n",
    "print(gals_less) \n",
    "guys_two = reactome_binomial_results(male_all, 7, total_all, 0.05, 'two-sided')\n",
    "gals_two = reactome_binomial_results(female_all, 11, total_all,  0.05, 'two-sided')\n",
    "print(guys_two)\n",
    "print(gals_two) "
   ]
  },
  {
   "cell_type": "code",
   "execution_count": 212,
   "metadata": {},
   "outputs": [],
   "source": [
    "wut.iloc[:50, 1:4]\n",
    "total_pathways = [\"interleukin-10 signaling\", \"Signaling by Interleukins\", \"Cytokine Signaling in Immune system\", \"Immune System\", \"Chemokine receptors bind chemokines\", \"Interleukin-18 signaling\", \"Peptide ligand-binding receptors\",  \"GPCR downstream signalling\", \"Interleukin-4 and Interleukin-13 signaling\", \"Other interleuking signaling\", \"interleukin-1 family signaling\", \"Cellular Senescence\", \"Class A/1\", 'G alpha (I) signalling events']\n",
    "total_counts = [36, 64, 65, 70, 21, 5, 21, 21, 32, 2, 10, 6, 21, 16 ]\n",
    "total = 58\n",
    "total_all = np.array([z for z in zip(total_pathways, total_counts, [total for n in range(len(total_pathways))])])\n",
    "\n",
    "male_pathways = [\"interleukin-10 signaling\", \"Cytokine Signaling in Immune system\", \"Signaling by Interleukins\", \"Chemokine receptors bind chemokines\", \"Immune System\", \"GPCR ligand binding\", \"Peptide ligand-binding receptors\", \"GPCR downstream signalling\", \"Signalling by GPCR\",  \"G alpha (I) signalling events\", \"Class A/1\"]\n",
    "male_pathways_counts = [6, 7, 6, 3, 7, 4, 3 , 4, 3, 3, 3]\n",
    "male_pathways_possible = [45, 804, 457, 57, 2249, 469, 198, 631, 706, 317, 333]\n",
    "female_pathways = [\"interleukin-10 signaling\", \"Signaling by Interleukins\", \"Cytokine Signaling in Immune system\", \"Immune System\", \"Chemokine receptors bind chemokines\", \"Interleukin-18 signaling\", \"Interleukin-4 and Interleukin-13 signaling\", \"Other interleuking signaling\", \"interleukin-1 family signaling\", \"Cellular Senescence\" ]\n",
    "female_pathways_counts = [8, 10, 11, 11, 3, 2, 3, 2, 3, 3] \n",
    "female_pathways_possible = [45, 457, 804, 2249, 57, 9, 111, 24, 142, 166]\n",
    "female_all = np.array([y for y in zip(female_pathways, female_pathways_counts, female_pathways_possible)])\n",
    "male_all = np.array([x for x in zip(male_pathways, male_pathways_counts, male_pathways_possible)])\n",
    "\n"
   ]
  },
  {
   "cell_type": "code",
   "execution_count": 213,
   "metadata": {},
   "outputs": [
    {
     "name": "stdout",
     "output_type": "stream",
     "text": [
      "[]\n",
      "[]\n",
      "[]\n",
      "[]\n",
      "[]\n",
      "[]\n"
     ]
    }
   ],
   "source": [
    "guys_more = reactome_binomial_results(male_all, 7, total_all, 0.05,'greater')\n",
    "gals_more = reactome_binomial_results(female_all, 11, total_all, 0.05, 'greater')\n",
    "print(guys_more) \n",
    "print(gals_more) \n",
    "guys_less = reactome_binomial_results(male_all, 7, total_all, 0.05,'less')\n",
    "gals_less = reactome_binomial_results(female_all, 11, total_all, 0.05, 'less')\n",
    "print(guys_less) \n",
    "print(gals_less) \n",
    "guys_two = reactome_binomial_results(male_all, 7, total_all, 0.05, 'two-sided')\n",
    "gals_two = reactome_binomial_results(female_all, 11, total_all,  0.05, 'two-sided')\n",
    "print(guys_two)\n",
    "print(gals_two) \n"
   ]
  },
  {
   "cell_type": "code",
   "execution_count": 187,
   "metadata": {},
   "outputs": [
    {
     "name": "stdout",
     "output_type": "stream",
     "text": [
      "IFNy\n",
      "IL1a\n",
      "IL1b\n",
      "IL1RA\n",
      "IL2\n",
      "IL3\n",
      "IL4\n",
      "IL5\n",
      "IL6\n",
      "IL7\n",
      "IL8\n",
      "IL9\n",
      "IL10\n",
      "IL12p40\n",
      "IL12p70\n",
      "IL13\n",
      "IL15\n",
      "IL17A\n",
      "IL17E\n",
      "IL17F\n",
      "IL18\n",
      "IL22\n",
      "IL27\n",
      "CXCL10\n",
      "CCL2\n",
      "CCL7\n",
      "MCSF\n",
      "CCL22\n",
      "CXCL9\n",
      "CCL3\n",
      "CCL4\n",
      "PDGFAA\n",
      "PDGFAB\n",
      "CCL5\n",
      "TGFa\n",
      "TNFa\n",
      "TNFb\n",
      "VEGFA\n",
      "Eotaxin2\n",
      "CCL8\n",
      "CXCL13\n",
      "CCL13\n",
      "CCL1\n",
      "IL16\n",
      "CCL17\n",
      "CCL21\n",
      "Eotaxin3\n",
      "LIF\n",
      "TPO\n",
      "SCF\n",
      "TSLP\n",
      "IL33\n",
      "IL20\n",
      "IL21\n",
      "IL23\n",
      "TRAIL\n",
      "CCL27\n",
      "SDF1a\n",
      "CXCL5\n",
      "CCL15\n",
      "IFNL2\n",
      "[['interleukin-10 signaling' '36' '58']\n",
      " ['Signaling by Interleukins' '64' '58']\n",
      " ['Cytokine Signaling in Immune system' '65' '58']\n",
      " ['Immune System' '70' '58']\n",
      " ['Chemokine receptors bind chemokines' '21' '58']\n",
      " ['Interleukin-18 signaling' '5' '58']\n",
      " ['Peptide ligand-binding receptors' '21' '58']\n",
      " ['GPCR downstream signalling' '21' '58']\n",
      " ['Interleukin-4 and Interleukin-13 signaling' '32' '58']\n",
      " ['Other interleuking signaling' '2' '58']\n",
      " ['interleukin-1 family signaling' '10' '58']\n",
      " ['Cellular Senescence' '6' '58']\n",
      " ['Class A/1' '21' '58']\n",
      " ['G alpha (I) signalling events' '16' '58']]\n"
     ]
    }
   ],
   "source": [
    "dataframes = pd.read_excel(pathname)\n",
    "dataframes.iloc[22, 80:]\n",
    "gene_list = []\n",
    "for term in dataframes.iloc[22, 80:]:\n",
    "    gene_list.append(term.strip(' ').split('or')[0].split('AND')[0].split('/')[0].split('And')[0].split('Or')[0])\n",
    "for termy in gene_list:\n",
    "    print(termy + '')\n",
    "total = len(gene_list) - 3\n",
    "print(total_all)"
   ]
  },
  {
   "cell_type": "markdown",
   "metadata": {},
   "source": [
    "# Gene List Final\n",
    "#Gene names from paper\n",
    "IL1a\n",
    "IL1b\n",
    "IL1RA\n",
    "IL2\n",
    "IL3\n",
    "IL4\n",
    "IL5\n",
    "IL6\n",
    "IL7\n",
    "IL8\n",
    "IL9\n",
    "IL10\n",
    "IL12b\n",
    "IL13\n",
    "IL15\n",
    "IL17A\n",
    "IL17E\n",
    "IL17F\n",
    "IL18\n",
    "IL22\n",
    "IL27\n",
    "CXCL10\n",
    "CCL2\n",
    "CCL7\n",
    "CSF1\n",
    "CCL22\n",
    "CXCL9\n",
    "CCL3\n",
    "CCL4\n",
    "PDGFAA\n",
    "PDGFR\n",
    "CCL5\n",
    "TGFa\n",
    "TNFa\n",
    "TNFb\n",
    "VEGFA\n",
    "CCL26\n",
    "CXCL13\n",
    "CCL13\n",
    "CCL1\n",
    "IL16\n",
    "CCL17\n",
    "CCL21\n",
    "CCL16\n",
    "LIF\n",
    "TPO\n",
    "SCF\n",
    "TSLP\n",
    "IL33\n",
    "IL20\n",
    "IL21\n",
    "IL23a\n",
    "TRAIL\n",
    "CCL27\n",
    "SDF1a\n",
    "CXCL5\n",
    "IFNL2\n",
    "\n"
   ]
  },
  {
   "cell_type": "code",
   "execution_count": 214,
   "metadata": {},
   "outputs": [
    {
     "name": "stdout",
     "output_type": "stream",
     "text": [
      "61\n"
     ]
    }
   ],
   "source": [
    "print(len(gene_list))"
   ]
  },
  {
   "cell_type": "code",
   "execution_count": null,
   "metadata": {},
   "outputs": [],
   "source": []
  }
 ],
 "metadata": {
  "kernelspec": {
   "display_name": "Python 3",
   "language": "python",
   "name": "python3"
  },
  "language_info": {
   "codemirror_mode": {
    "name": "ipython",
    "version": 3
   },
   "file_extension": ".py",
   "mimetype": "text/x-python",
   "name": "python",
   "nbconvert_exporter": "python",
   "pygments_lexer": "ipython3",
   "version": "3.8.5"
  }
 },
 "nbformat": 4,
 "nbformat_minor": 4
}
